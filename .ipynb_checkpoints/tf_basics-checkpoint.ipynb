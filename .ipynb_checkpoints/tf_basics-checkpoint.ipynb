{
 "cells": [
  {
   "cell_type": "code",
   "execution_count": 2,
   "metadata": {
    "cellView": "form",
    "colab": {
     "autoexec": {
      "startup": false,
      "wait_interval": 0
     }
    },
    "colab_type": "code",
    "id": "bFczbFMYMfsW"
   },
   "outputs": [
    {
     "ename": "ImportError",
     "evalue": "No module named data",
     "output_type": "error",
     "traceback": [
      "\u001b[0;31m---------------------------------------------------------------------------\u001b[0m",
      "\u001b[0;31mImportError\u001b[0m                               Traceback (most recent call last)",
      "\u001b[0;32m<ipython-input-2-af86f2797dbf>\u001b[0m in \u001b[0;36m<module>\u001b[0;34m()\u001b[0m\n\u001b[1;32m     10\u001b[0m \u001b[0;32mfrom\u001b[0m \u001b[0msklearn\u001b[0m \u001b[0;32mimport\u001b[0m \u001b[0mmetrics\u001b[0m\u001b[0;34m\u001b[0m\u001b[0m\n\u001b[1;32m     11\u001b[0m \u001b[0;32mimport\u001b[0m \u001b[0mtensorflow\u001b[0m \u001b[0;32mas\u001b[0m \u001b[0mtf\u001b[0m\u001b[0;34m\u001b[0m\u001b[0m\n\u001b[0;32m---> 12\u001b[0;31m \u001b[0;32mfrom\u001b[0m \u001b[0mtensorflow\u001b[0m\u001b[0;34m.\u001b[0m\u001b[0mpython\u001b[0m\u001b[0;34m.\u001b[0m\u001b[0mdata\u001b[0m \u001b[0;32mimport\u001b[0m \u001b[0mDataset\u001b[0m\u001b[0;34m\u001b[0m\u001b[0m\n\u001b[0m\u001b[1;32m     13\u001b[0m \u001b[0;34m\u001b[0m\u001b[0m\n\u001b[1;32m     14\u001b[0m \u001b[0mtf\u001b[0m\u001b[0;34m.\u001b[0m\u001b[0mlogging\u001b[0m\u001b[0;34m.\u001b[0m\u001b[0mset_verbosity\u001b[0m\u001b[0;34m(\u001b[0m\u001b[0mtf\u001b[0m\u001b[0;34m.\u001b[0m\u001b[0mlogging\u001b[0m\u001b[0;34m.\u001b[0m\u001b[0mERROR\u001b[0m\u001b[0;34m)\u001b[0m\u001b[0;34m\u001b[0m\u001b[0m\n",
      "\u001b[0;31mImportError\u001b[0m: No module named data"
     ]
    }
   ],
   "source": [
    "#@title Imports\n",
    "import math\n",
    "\n",
    "from IPython import display\n",
    "from matplotlib import cm\n",
    "from matplotlib import gridspec\n",
    "from matplotlib import pyplot as plt\n",
    "import numpy as np\n",
    "import pandas as pd\n",
    "from sklearn import metrics\n",
    "import tensorflow as tf\n",
    "from tensorflow.python.data import Dataset\n",
    "\n",
    "tf.logging.set_verbosity(tf.logging.ERROR)\n",
    "pd.options.display.max_rows = 10\n",
    "pd.options.display.float_format = '{:.1f}'.format"
   ]
  },
  {
   "cell_type": "code",
   "execution_count": 0,
   "metadata": {
    "cellView": "code",
    "colab": {
     "autoexec": {
      "startup": false,
      "wait_interval": 0
     }
    },
    "colab_type": "code",
    "collapsed": true,
    "id": "GG11C6z3Ml39"
   },
   "outputs": [],
   "source": [
    "#@title Get Data\n",
    "california_housing_dataframe = pd.read_csv(\"https://storage.googleapis.com/mledu-datasets/california_housing_train.csv\", sep=\",\")\n",
    "california_housing_dataframe = california_housing_dataframe.reindex(\n",
    "    np.random.permutation(california_housing_dataframe.index))\n",
    "california_housing_dataframe.describe()\n",
    "\n",
    "train_percent = 70 #@param\n",
    "train_size = int(california_housing_dataframe.shape[0]*0.722)\n",
    "test_size = california_housing_dataframe.shape[0] - train_size\n",
    "train_df = california_housing_dataframe.head(train_size)[:]\n",
    "test_df = california_housing_dataframe.tail(test_size)[:]\n",
    "del california_housing_dataframe"
   ]
  },
  {
   "cell_type": "code",
   "execution_count": 0,
   "metadata": {
    "colab": {
     "autoexec": {
      "startup": false,
      "wait_interval": 0
     }
    },
    "colab_type": "code",
    "collapsed": true,
    "id": "NdcvfvPkO0bs"
   },
   "outputs": [],
   "source": [
    "target_col = 'median_house_value'\n",
    "feature_cols = ['total_rooms','total_bedrooms','population','households','median_income']\n"
   ]
  },
  {
   "cell_type": "code",
   "execution_count": 0,
   "metadata": {
    "colab": {
     "autoexec": {
      "startup": false,
      "wait_interval": 0
     }
    },
    "colab_type": "code",
    "collapsed": true,
    "id": "Ky8uDz0pPM6b"
   },
   "outputs": [],
   "source": [
    "# Define the input feature: total_rooms.\n",
    "my_feature_train = train_df[feature_cols]\n",
    "my_feature_test = test_df[feature_cols]\n",
    "\n",
    "# Configure a numeric feature column for total_rooms.\n",
    "feature_columns = []\n",
    "for f in feature_cols:\n",
    "  feature_columns.append(tf.feature_column.numeric_column(f))\n",
    "\n",
    "targets_train = train_df[target_col]\n",
    "targets_test = test_df[target_col]\n"
   ]
  },
  {
   "cell_type": "code",
   "execution_count": 0,
   "metadata": {
    "colab": {
     "autoexec": {
      "startup": false,
      "wait_interval": 0
     }
    },
    "colab_type": "code",
    "collapsed": true,
    "id": "4H6duBFuN4Lo"
   },
   "outputs": [],
   "source": [
    "def my_input_fn(features, targets, batch_size=1, shuffle=True, num_epochs=None):\n",
    "    \"\"\"Trains a linear regression model of one feature.\n",
    "\n",
    "    Args:\n",
    "      features: pandas DataFrame of features\n",
    "      targets: pandas DataFrame of targets\n",
    "      batch_size: Size of batches to be passed to the model\n",
    "      shuffle: True or False. Whether to shuffle the data.\n",
    "      num_epochs: Number of epochs for which data should be repeated. None = repeat indefinitely\n",
    "    Returns:\n",
    "      Tuple of (features, labels) for next data batch\n",
    "    \"\"\"\n",
    "\n",
    "    # Convert pandas data into a dict of np arrays.\n",
    "    features = {key:np.array(value) for key,value in dict(features).items()}                                           \n",
    "\n",
    "    # Construct a dataset, and configure batching/repeating\n",
    "    ds = Dataset.from_tensor_slices((features,targets)) # warning: 2GB limit\n",
    "    ds = ds.batch(batch_size).repeat(num_epochs)\n",
    "\n",
    "    # Shuffle the data, if specified\n",
    "    if shuffle:\n",
    "      ds = ds.shuffle(buffer_size=10000)\n",
    "\n",
    "    # Return the next batch of data\n",
    "    features, labels = ds.make_one_shot_iterator().get_next()\n",
    "    return features, labels"
   ]
  },
  {
   "cell_type": "markdown",
   "metadata": {
    "colab_type": "text",
    "id": "_zdmRjoGFU2v"
   },
   "source": [
    "## LINEAR REGRESSION"
   ]
  },
  {
   "cell_type": "code",
   "execution_count": 0,
   "metadata": {
    "colab": {
     "autoexec": {
      "startup": false,
      "wait_interval": 0
     }
    },
    "colab_type": "code",
    "collapsed": true,
    "id": "-vE_S9gLNyjZ"
   },
   "outputs": [],
   "source": [
    "# Use gradient descent as the optimizer for training the model.\n",
    "my_optimizer=tf.train.GradientDescentOptimizer(learning_rate=0.0000001)\n",
    "my_optimizer = tf.contrib.estimator.clip_gradients_by_norm(my_optimizer, 5.0)\n",
    "\n",
    "# Configure the linear regression model with our feature columns and optimizer.\n",
    "# Set a learning rate of 0.0000001 for Gradient Descent.\n",
    "linear_regressor = tf.estimator.LinearRegressor(\n",
    "    feature_columns=feature_columns,\n",
    "    optimizer=my_optimizer\n",
    ")"
   ]
  },
  {
   "cell_type": "code",
   "execution_count": 0,
   "metadata": {
    "cellView": "both",
    "colab": {
     "autoexec": {
      "startup": false,
      "wait_interval": 0
     }
    },
    "colab_type": "code",
    "collapsed": true,
    "id": "X5l68Z5L5NGh"
   },
   "outputs": [],
   "source": [
    "#@title TRAIN\n",
    "train_input_fn = lambda:my_input_fn(my_feature_train,\n",
    "                                    targets_train,\n",
    "                                    batch_size=100,\n",
    "                                    num_epochs=4)\n",
    "_ = linear_regressor.train(\n",
    "    input_fn = train_input_fn)"
   ]
  },
  {
   "cell_type": "code",
   "execution_count": 110,
   "metadata": {
    "colab": {
     "autoexec": {
      "startup": false,
      "wait_interval": 0
     },
     "base_uri": "https://localhost:8080/",
     "height": 119,
     "output_extras": [
      {
       "item_id": 2
      }
     ]
    },
    "colab_type": "code",
    "executionInfo": {
     "elapsed": 7209,
     "status": "ok",
     "timestamp": 1521998871247,
     "user": {
      "displayName": "Tan Özaslan",
      "photoUrl": "https://lh3.googleusercontent.com/a/default-user=s128",
      "userId": "116292972502557226246"
     },
     "user_tz": -60
    },
    "id": "Rk4ZZtbmOA02",
    "outputId": "2e844a8a-3b4e-494e-85ea-5f9ed35d8388"
   },
   "outputs": [
    {
     "name": "stdout",
     "output_type": "stream",
     "text": [
      "Mean value of predictions: 2.647816, Mean of Targets: 207017.840802\n",
      "Mean Squared Error (on training data): 56315851466.948\n",
      "Root Mean Squared Error (on training data): 237309.611\n",
      "Mean value of predictions: 2.683237, Mean of Targets: 208036.083792\n",
      "Mean Squared Error (on test data): 56704733651.562\n",
      "Root Mean Squared Error (on test data): 238127.558\n"
     ]
    }
   ],
   "source": [
    "pred_input_fn_train =lambda: my_input_fn(my_feature_train,\n",
    "                                         targets_train, \n",
    "                                         num_epochs=1,\n",
    "                                         shuffle=False)\n",
    "\n",
    "pred_input_fn_test =lambda: my_input_fn(my_feature_test,\n",
    "                                         targets_test, \n",
    "                                         num_epochs=1,\n",
    "                                         shuffle=False)\n",
    "\n",
    "def get_preds_with_metric(model,input_fn,targets,desc,is_dict=True):\n",
    "  # Call predict() on the linear_regressor to make predictions.\n",
    "  predictions = model.predict(input_fn=input_fn)\n",
    "  if is_dict:\n",
    "    preds = [pred['predictions'][0] for pred in predictions]\n",
    "  else:\n",
    "    preds = [pred for pred in predictions]\n",
    "  mean_squared_error = metrics.mean_squared_error(preds, targets)\n",
    "  root_mean_squared_error = math.sqrt(mean_squared_error)\n",
    "  print \"Mean value of predictions: %f, Mean of Targets: %f\"%(np.mean(preds),np.mean(targets))\n",
    "  print \"Mean Squared Error (on %s data): %0.3f\" %(desc, mean_squared_error)\n",
    "  print \"Root Mean Squared Error (on %s data): %0.3f\" %(desc, root_mean_squared_error)\n",
    "  \n",
    "get_preds_with_metric(linear_regressor,pred_input_fn_train,targets_train,'training')\n",
    "get_preds_with_metric(linear_regressor,pred_input_fn_test,targets_test,'test')"
   ]
  },
  {
   "cell_type": "markdown",
   "metadata": {
    "colab_type": "text",
    "id": "7wKD9q7QF_dx"
   },
   "source": [
    "##DNN RERESSOR"
   ]
  },
  {
   "cell_type": "code",
   "execution_count": 0,
   "metadata": {
    "colab": {
     "autoexec": {
      "startup": false,
      "wait_interval": 0
     }
    },
    "colab_type": "code",
    "collapsed": true,
    "id": "e7CNoSyAGDRg"
   },
   "outputs": [],
   "source": [
    "dnn_regressor = tf.estimator.DNNRegressor(\n",
    "      feature_columns=feature_columns,\n",
    "      hidden_units=[10,10]\n",
    "  )\n",
    "dnn_regressor.train(input_fn = train_input_fn)\n"
   ]
  },
  {
   "cell_type": "code",
   "execution_count": 112,
   "metadata": {
    "colab": {
     "autoexec": {
      "startup": false,
      "wait_interval": 0
     },
     "base_uri": "https://localhost:8080/",
     "height": 119,
     "output_extras": [
      {
       "item_id": 2
      }
     ]
    },
    "colab_type": "code",
    "executionInfo": {
     "elapsed": 7901,
     "status": "ok",
     "timestamp": 1521998914874,
     "user": {
      "displayName": "Tan Özaslan",
      "photoUrl": "https://lh3.googleusercontent.com/a/default-user=s128",
      "userId": "116292972502557226246"
     },
     "user_tz": -60
    },
    "id": "skCaCyYQKAge",
    "outputId": "d9cdc9be-94e9-44b7-fb00-48188f7b5d00"
   },
   "outputs": [
    {
     "name": "stdout",
     "output_type": "stream",
     "text": [
      "Mean value of predictions: 131470.515625, Mean of Targets: 207017.840802\n",
      "Mean Squared Error (on training data): 27866569704.388\n",
      "Root Mean Squared Error (on training data): 166932.830\n",
      "Mean value of predictions: 133315.437500, Mean of Targets: 208036.083792\n",
      "Mean Squared Error (on test data): 27395570065.701\n",
      "Root Mean Squared Error (on test data): 165516.072\n"
     ]
    }
   ],
   "source": [
    "get_preds_with_metric(dnn_regressor,pred_input_fn_train,targets_train,'training')\n",
    "get_preds_with_metric(dnn_regressor,pred_input_fn_test,targets_test,'test')"
   ]
  },
  {
   "cell_type": "markdown",
   "metadata": {
    "colab_type": "text",
    "id": "wxsHglrIYpvZ"
   },
   "source": [
    "## CUSTOM ESTIMATOR"
   ]
  },
  {
   "cell_type": "code",
   "execution_count": 0,
   "metadata": {
    "colab": {
     "autoexec": {
      "startup": false,
      "wait_interval": 0
     }
    },
    "colab_type": "code",
    "collapsed": true,
    "id": "3kx_FWrBYtON"
   },
   "outputs": [],
   "source": [
    "def my_model_fn(\n",
    "   features, # This is batch_features from input_fn\n",
    "   labels,   # This is batch_labels from input_fn\n",
    "   mode):    # Instance of tf.estimator.ModeKeys, see below\n",
    "  # Create the layer of input\n",
    "  input_layer = tf.feature_column.input_layer(features, feature_columns)\n",
    "    \n",
    "  # Definition of hidden layer: h1\n",
    "  # (Dense returns a Callable so we can provide input_layer as argument to it)\n",
    "  h1 = tf.layers.Dense(10, activation=tf.nn.relu)(input_layer)\n",
    "\n",
    "  # Definition of hidden layer: h2\n",
    "  # (Dense returns a Callable so we can provide h1 as argument to it)\n",
    "  h2 = tf.layers.Dense(10, activation=tf.nn.relu)(h1)\n",
    "  # Output 'logits' layer is three numbers = probability distribution\n",
    "  # (Dense returns a Callable so we can provide h2 as argument to it)\n",
    "  logits = tf.layers.Dense(1)(h2)\n",
    "  predictions = tf.squeeze(logits, 1)# Convert to shape [batch_size]\n",
    "  if mode == tf.estimator.ModeKeys.TRAIN:\n",
    "    loss = tf.losses.mean_squared_error(labels=labels, predictions=predictions)\n",
    "    optimizer = tf.train.AdagradOptimizer(learning_rate=0.1)\n",
    "    train_op = optimizer.minimize(loss, global_step=tf.train.get_global_step())\n",
    "    return tf.estimator.EstimatorSpec(mode,\n",
    "                                      loss=loss,\n",
    "                                      train_op=train_op)\n",
    "\n",
    "  \n",
    "  if mode == tf.estimator.ModeKeys.PREDICT:\n",
    "    return tf.estimator.EstimatorSpec(mode, predictions=predictions)\n"
   ]
  },
  {
   "cell_type": "code",
   "execution_count": 80,
   "metadata": {
    "colab": {
     "autoexec": {
      "startup": false,
      "wait_interval": 0
     },
     "base_uri": "https://localhost:8080/",
     "height": 34,
     "output_extras": [
      {
       "item_id": 1
      }
     ]
    },
    "colab_type": "code",
    "executionInfo": {
     "elapsed": 1987,
     "status": "ok",
     "timestamp": 1521997012580,
     "user": {
      "displayName": "Tan Özaslan",
      "photoUrl": "https://lh3.googleusercontent.com/a/default-user=s128",
      "userId": "116292972502557226246"
     },
     "user_tz": -60
    },
    "id": "5P31vrknY24l",
    "outputId": "452c89dd-1ab3-438c-85e0-e9dbc889bc21"
   },
   "outputs": [
    {
     "data": {
      "text/plain": [
       "<tensorflow.python.estimator.estimator.Estimator at 0x7f92b6567e10>"
      ]
     },
     "execution_count": 80,
     "metadata": {
      "tags": []
     },
     "output_type": "execute_result"
    }
   ],
   "source": [
    "custom_regressor = tf.estimator.Estimator(\n",
    "    model_fn=my_model_fn,\n",
    "    model_dir='/Users/sunupi/Desktop/Checkpoints')  # Path to where checkpoints etc are stored\n",
    "\n",
    "custom_regressor.train(input_fn=train_input_fn,steps=30000)"
   ]
  },
  {
   "cell_type": "code",
   "execution_count": 113,
   "metadata": {
    "colab": {
     "autoexec": {
      "startup": false,
      "wait_interval": 0
     },
     "base_uri": "https://localhost:8080/",
     "height": 119,
     "output_extras": [
      {
       "item_id": 2
      }
     ]
    },
    "colab_type": "code",
    "executionInfo": {
     "elapsed": 7098,
     "status": "ok",
     "timestamp": 1521998945631,
     "user": {
      "displayName": "Tan Özaslan",
      "photoUrl": "https://lh3.googleusercontent.com/a/default-user=s128",
      "userId": "116292972502557226246"
     },
     "user_tz": -60
    },
    "id": "VZjz5OFFDg1S",
    "outputId": "56d01855-9d94-448a-b217-91f24fbc7d45"
   },
   "outputs": [
    {
     "name": "stdout",
     "output_type": "stream",
     "text": [
      "Mean value of predictions: 133536.421875, Mean of Targets: 207017.840802\n",
      "Mean Squared Error (on training data): 27550601947.960\n",
      "Root Mean Squared Error (on training data): 165983.740\n",
      "Mean value of predictions: 135381.781250, Mean of Targets: 208036.083792\n",
      "Mean Squared Error (on test data): 27079192156.630\n",
      "Root Mean Squared Error (on test data): 164557.565\n"
     ]
    }
   ],
   "source": [
    "get_preds_with_metric(custom_regressor,pred_input_fn_train,targets_train,'training',is_dict=False)\n",
    "get_preds_with_metric(custom_regressor,pred_input_fn_test,targets_test,'test',is_dict=False)"
   ]
  },
  {
   "cell_type": "markdown",
   "metadata": {
    "colab_type": "text",
    "id": "RW_0CRYfN9AI"
   },
   "source": [
    "## Custom Deep and Wide"
   ]
  },
  {
   "cell_type": "code",
   "execution_count": 0,
   "metadata": {
    "colab": {
     "autoexec": {
      "startup": false,
      "wait_interval": 0
     }
    },
    "colab_type": "code",
    "collapsed": true,
    "id": "EUhRCiQaN8dS"
   },
   "outputs": [],
   "source": [
    "def my_model_fn(\n",
    "   features, # This is batch_features from input_fn\n",
    "   labels,   # This is batch_labels from input_fn\n",
    "   mode):    # Instance of tf.estimator.ModeKeys, see below\n",
    "  # Create the layer of input\n",
    "  input_layer = tf.feature_column.input_layer(features, feature_columns)\n",
    "  \n",
    "  h1 = tf.layers.Dense(10, activation=tf.nn.relu)(input_layer)\n",
    "  \n",
    "  # Definition of hidden layer: h1\n",
    "  # (Dense returns a Callable so we can provide input_layer as argument to it)\n",
    "  h1 = tf.layers.Dense(10, activation=tf.nn.relu)(input_layer)\n",
    "\n",
    "  # Definition of hidden layer: h2\n",
    "  # (Dense returns a Callable so we can provide h1 as argument to it)\n",
    "  h2 = tf.layers.Dense(10, activation=tf.nn.relu)(h1)\n",
    "  # Output 'logits' layer is three numbers = probability distribution\n",
    "  # (Dense returns a Callable so we can provide h2 as argument to it)\n",
    "  logits = tf.layers.Dense(1)(h2)\n",
    "  predictions = tf.squeeze(logits, 1)# Convert to shape [batch_size]\n",
    "  if mode == tf.estimator.ModeKeys.TRAIN:\n",
    "    loss = tf.losses.mean_squared_error(labels=labels, predictions=predictions)\n",
    "    optimizer = tf.train.AdagradOptimizer(learning_rate=0.1)\n",
    "    train_op = optimizer.minimize(loss, global_step=tf.train.get_global_step())\n",
    "    return tf.estimator.EstimatorSpec(mode,\n",
    "                                      loss=loss,\n",
    "                                      train_op=train_op)\n",
    "\n",
    "  \n",
    "  if mode == tf.estimator.ModeKeys.PREDICT:\n",
    "    return tf.estimator.EstimatorSpec(mode, predictions=predictions)"
   ]
  },
  {
   "cell_type": "code",
   "execution_count": 114,
   "metadata": {
    "colab": {
     "autoexec": {
      "startup": false,
      "wait_interval": 0
     },
     "base_uri": "https://localhost:8080/",
     "height": 164,
     "output_extras": [
      {
       "item_id": 1
      }
     ]
    },
    "colab_type": "code",
    "executionInfo": {
     "elapsed": 435,
     "status": "error",
     "timestamp": 1521999164776,
     "user": {
      "displayName": "Tan Özaslan",
      "photoUrl": "https://lh3.googleusercontent.com/a/default-user=s128",
      "userId": "116292972502557226246"
     },
     "user_tz": -60
    },
    "id": "C1qb2lisOCax",
    "outputId": "2186b890-1450-4be4-f9a6-22919c26783d"
   },
   "outputs": [
    {
     "ename": "NameError",
     "evalue": "ignored",
     "output_type": "error",
     "traceback": [
      "\u001b[0;31m\u001b[0m",
      "\u001b[0;31mNameError\u001b[0mTraceback (most recent call last)",
      "\u001b[0;32m<ipython-input-114-2e9d74249473>\u001b[0m in \u001b[0;36m<module>\u001b[0;34m()\u001b[0m\n\u001b[0;32m----> 1\u001b[0;31m \u001b[0mlogits\u001b[0m\u001b[0;34m\u001b[0m\u001b[0m\n\u001b[0m",
      "\u001b[0;31mNameError\u001b[0m: name 'logits' is not defined"
     ]
    }
   ],
   "source": [
    "tf.layers.flatten()"
   ]
  },
  {
   "cell_type": "code",
   "execution_count": 0,
   "metadata": {
    "colab": {
     "autoexec": {
      "startup": false,
      "wait_interval": 0
     }
    },
    "colab_type": "code",
    "collapsed": true,
    "id": "dKFqbsjdODOC"
   },
   "outputs": [],
   "source": []
  }
 ],
 "metadata": {
  "colab": {
   "default_view": {},
   "name": "tf_deneme.ipynb",
   "provenance": [],
   "version": "0.3.2",
   "views": {}
  },
  "kernelspec": {
   "display_name": "Python 2",
   "language": "python",
   "name": "python2"
  },
  "language_info": {
   "codemirror_mode": {
    "name": "ipython",
    "version": 2
   },
   "file_extension": ".py",
   "mimetype": "text/x-python",
   "name": "python",
   "nbconvert_exporter": "python",
   "pygments_lexer": "ipython2",
   "version": "2.7.10"
  }
 },
 "nbformat": 4,
 "nbformat_minor": 1
}
