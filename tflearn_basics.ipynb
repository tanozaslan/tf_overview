{
 "cells": [
  {
   "cell_type": "code",
   "execution_count": 1,
   "metadata": {
    "collapsed": true
   },
   "outputs": [],
   "source": [
    "import tflearn\n",
    "import pandas as pd\n",
    "import numpy as np\n",
    "import tensorflow as tf"
   ]
  },
  {
   "cell_type": "code",
   "execution_count": 4,
   "metadata": {
    "collapsed": true
   },
   "outputs": [],
   "source": [
    "#@title Get Data\n",
    "california_housing_dataframe = pd.read_csv(\"https://storage.googleapis.com/mledu-datasets/california_housing_train.csv\", sep=\",\")\n",
    "california_housing_dataframe = california_housing_dataframe.reindex(\n",
    "    np.random.permutation(california_housing_dataframe.index))\n",
    "california_housing_dataframe.describe()\n",
    "\n",
    "train_percent = 10 #@param\n",
    "train_size = int(california_housing_dataframe.shape[0]*(train_percent/100.0))\n",
    "test_size = california_housing_dataframe.shape[0] - train_size\n",
    "train_df = california_housing_dataframe.head(train_size)[:]\n",
    "test_df = california_housing_dataframe.tail(test_size)[:]\n",
    "\n",
    "del california_housing_dataframe"
   ]
  },
  {
   "cell_type": "code",
   "execution_count": 9,
   "metadata": {
    "collapsed": true
   },
   "outputs": [],
   "source": [
    "target_col = 'median_house_value'\n",
    "feature_cols = ['total_rooms','total_bedrooms','population','households','median_income']\n",
    "\n",
    "train_x = train_df[feature_cols][:]\n",
    "train_y = train_df[target_col][:]"
   ]
  },
  {
   "cell_type": "code",
   "execution_count": 40,
   "metadata": {},
   "outputs": [
    {
     "name": "stdout",
     "output_type": "stream",
     "text": [
      "Training Step: 14200  | total loss: \u001b[1m\u001b[32m27081293824.00000\u001b[0m\u001b[0m | time: 0.404s\n",
      "| SGD | epoch: 100 | loss: 27081293824.00000 - R2: 0.9234 -- iter: 1700/1700\n",
      "('\\nInput features:  ', [[0.969701929436073, 0.6261575594366111, 0.25127707280188294, 0.46869690952084275, 0.9956458963611021]])\n",
      "\n",
      " Predicted output: \n",
      "[[ 81.41772461]]\n"
     ]
    }
   ],
   "source": [
    "tf.reset_default_graph()\n",
    "\n",
    "# Regression data- 10 training instances\n",
    "#10 input features per instance.\n",
    "#X=np.random.rand(10,5).tolist()\n",
    "X = train_x.as_matrix().tolist()\n",
    "#2 output features per instance\n",
    "#Y = np.random.rand(10,1).tolist()\n",
    "Y = train_y.reshape([len(train_y),1]).tolist()\n",
    "\n",
    "# Multiple Regression graph, 10-d input layer\n",
    "input_ = tflearn.input_data(shape=[None,5])\n",
    "#10-d fully connected layer\n",
    "r1 = tflearn.fully_connected(input_,10)\n",
    "#2-d fully connected layer for output\n",
    "r1 = tflearn.fully_connected(r1,1)\n",
    "r1 = tflearn.regression(r1, optimizer='sgd', loss='mean_square',\n",
    "                        metric='R2', learning_rate=0.01, batch_size=12)\n",
    "\n",
    "m = tflearn.DNN(r1)\n",
    "m.fit(X,Y, n_epoch=100, show_metric=True, snapshot_epoch=False)\n",
    "\n",
    "#Predict for 1 instance\n",
    "print(\"\\nInput features:  \",testinstance)\n",
    "print(\"\\n Predicted output: \")\n",
    "print(m.predict(testinstance))"
   ]
  },
  {
   "cell_type": "code",
   "execution_count": 33,
   "metadata": {},
   "outputs": [
    {
     "data": {
      "text/plain": [
       "[[0.46232221040982224],\n",
       " [0.05163054518888022],\n",
       " [0.30064631275559794],\n",
       " [0.4379877491107863],\n",
       " [0.45669166695698693],\n",
       " [0.6198781776128914],\n",
       " [0.369494359187694],\n",
       " [0.19620415291955096],\n",
       " [0.05889704843917021],\n",
       " [0.7358424440456337]]"
      ]
     },
     "execution_count": 33,
     "metadata": {},
     "output_type": "execute_result"
    }
   ],
   "source": [
    "np.random.rand(10,1).tolist()"
   ]
  },
  {
   "cell_type": "code",
   "execution_count": 38,
   "metadata": {},
   "outputs": [
    {
     "data": {
      "text/plain": [
       "[[214800.0],\n",
       " [301800.0],\n",
       " [70300.0],\n",
       " [280000.0],\n",
       " [163200.0],\n",
       " [191800.0],\n",
       " [450000.0],\n",
       " [155400.0],\n",
       " [81800.0],\n",
       " [77400.0]]"
      ]
     },
     "execution_count": 38,
     "metadata": {},
     "output_type": "execute_result"
    }
   ],
   "source": [
    "train_y[:10].reshape([10,1]).tolist()"
   ]
  },
  {
   "cell_type": "code",
   "execution_count": null,
   "metadata": {
    "collapsed": true
   },
   "outputs": [],
   "source": []
  }
 ],
 "metadata": {
  "kernelspec": {
   "display_name": "Python 2",
   "language": "python",
   "name": "python2"
  },
  "language_info": {
   "codemirror_mode": {
    "name": "ipython",
    "version": 2
   },
   "file_extension": ".py",
   "mimetype": "text/x-python",
   "name": "python",
   "nbconvert_exporter": "python",
   "pygments_lexer": "ipython2",
   "version": "2.7.10"
  }
 },
 "nbformat": 4,
 "nbformat_minor": 2
}
